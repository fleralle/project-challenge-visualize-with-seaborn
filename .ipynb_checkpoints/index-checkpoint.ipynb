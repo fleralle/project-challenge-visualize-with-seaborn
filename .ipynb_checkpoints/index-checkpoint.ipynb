{
 "cells": [
  {
   "cell_type": "markdown",
   "metadata": {},
   "source": [
    "# Visualisation Challenge using Seaborn - Project\n",
    "\n",
    "## Introduction\n",
    "\n",
    "See http://www.storytellingwithdata.com/blog/2019/3/1/swdchallenge-visualize-this-data for more detail. The CSV file can be downloaded here(https://uc3967674e910066678da8fc7850.dl.dropboxusercontent.com/cd/0/get/AgA6OTlmxOevE8zBcT3btjZR8hGifLL_thMroA3tBb9c44Ajg4UAlX3orSrwN5kzaUMY2ow6-QsFj1c-Kf-wJncTigHdd3mj9pUWYznlEqjevo_MI_n9dd7UbftAbuWTYT8/file?_download_id=1752561502404541632558147445238060157276967117767629700737814584863&_notify_domain=www.dropbox.com&dl=1)\n",
    "\n",
    "## Objectives\n",
    "\n",
    "You should be able to answer the question WHO DONATES? Related subquestions you may also answer :\n",
    "\n",
    "* How are donations distributed across countries?\n",
    "* Who donates to whom?\n",
    "* Are there any patterns, for example some group of countries tends to donate only to some specific group of other countries?)\n"
   ]
  },
  {
   "cell_type": "markdown",
   "metadata": {},
   "source": [
    "Importing the useful librairies"
   ]
  },
  {
   "cell_type": "code",
   "execution_count": 10,
   "metadata": {},
   "outputs": [],
   "source": [
    "import pandas as pd\n",
    "import matplotlib.pyplot as plt\n",
    "import seaborn as sns\n",
    "\n",
    "%matplotlib inline"
   ]
  },
  {
   "cell_type": "markdown",
   "metadata": {},
   "source": [
    "Load Data from source. and have a look at the head"
   ]
  },
  {
   "cell_type": "code",
   "execution_count": 11,
   "metadata": {
    "scrolled": true
   },
   "outputs": [
    {
     "data": {
      "text/html": [
       "<div>\n",
       "<style scoped>\n",
       "    .dataframe tbody tr th:only-of-type {\n",
       "        vertical-align: middle;\n",
       "    }\n",
       "\n",
       "    .dataframe tbody tr th {\n",
       "        vertical-align: top;\n",
       "    }\n",
       "\n",
       "    .dataframe thead th {\n",
       "        text-align: right;\n",
       "    }\n",
       "</style>\n",
       "<table border=\"1\" class=\"dataframe\">\n",
       "  <thead>\n",
       "    <tr style=\"text-align: right;\">\n",
       "      <th></th>\n",
       "      <th>Unnamed: 0</th>\n",
       "      <th>aiddata_id</th>\n",
       "      <th>aiddata_2_id</th>\n",
       "      <th>year</th>\n",
       "      <th>donor</th>\n",
       "      <th>recipient</th>\n",
       "      <th>commitment_amount_usd_constant</th>\n",
       "      <th>coalesced_purpose_code</th>\n",
       "      <th>coalesced_purpose_name</th>\n",
       "    </tr>\n",
       "  </thead>\n",
       "  <tbody>\n",
       "    <tr>\n",
       "      <th>0</th>\n",
       "      <td>1</td>\n",
       "      <td>2414478.0</td>\n",
       "      <td>NaN</td>\n",
       "      <td>1977</td>\n",
       "      <td>Saudi Arabia</td>\n",
       "      <td>India</td>\n",
       "      <td>348718518.0</td>\n",
       "      <td>23030</td>\n",
       "      <td>Power generation/renewable sources</td>\n",
       "    </tr>\n",
       "    <tr>\n",
       "      <th>1</th>\n",
       "      <td>2</td>\n",
       "      <td>2414509.0</td>\n",
       "      <td>NaN</td>\n",
       "      <td>1977</td>\n",
       "      <td>Saudi Arabia</td>\n",
       "      <td>Brazil</td>\n",
       "      <td>191647004.0</td>\n",
       "      <td>23040</td>\n",
       "      <td>Electrical transmission/ distribution</td>\n",
       "    </tr>\n",
       "    <tr>\n",
       "      <th>2</th>\n",
       "      <td>3</td>\n",
       "      <td>2414635.0</td>\n",
       "      <td>NaN</td>\n",
       "      <td>1983</td>\n",
       "      <td>Saudi Arabia</td>\n",
       "      <td>India</td>\n",
       "      <td>79371799.0</td>\n",
       "      <td>21030</td>\n",
       "      <td>Rail transport</td>\n",
       "    </tr>\n",
       "    <tr>\n",
       "      <th>3</th>\n",
       "      <td>4</td>\n",
       "      <td>2414665.0</td>\n",
       "      <td>NaN</td>\n",
       "      <td>1984</td>\n",
       "      <td>Saudi Arabia</td>\n",
       "      <td>Taiwan</td>\n",
       "      <td>212202942.0</td>\n",
       "      <td>21030</td>\n",
       "      <td>Rail transport</td>\n",
       "    </tr>\n",
       "    <tr>\n",
       "      <th>4</th>\n",
       "      <td>5</td>\n",
       "      <td>2414667.0</td>\n",
       "      <td>NaN</td>\n",
       "      <td>1984</td>\n",
       "      <td>Saudi Arabia</td>\n",
       "      <td>Korea</td>\n",
       "      <td>134511154.0</td>\n",
       "      <td>21040</td>\n",
       "      <td>Water transport</td>\n",
       "    </tr>\n",
       "  </tbody>\n",
       "</table>\n",
       "</div>"
      ],
      "text/plain": [
       "   Unnamed: 0  aiddata_id  aiddata_2_id  year         donor recipient  \\\n",
       "0           1   2414478.0           NaN  1977  Saudi Arabia     India   \n",
       "1           2   2414509.0           NaN  1977  Saudi Arabia    Brazil   \n",
       "2           3   2414635.0           NaN  1983  Saudi Arabia     India   \n",
       "3           4   2414665.0           NaN  1984  Saudi Arabia    Taiwan   \n",
       "4           5   2414667.0           NaN  1984  Saudi Arabia     Korea   \n",
       "\n",
       "   commitment_amount_usd_constant  coalesced_purpose_code  \\\n",
       "0                     348718518.0                   23030   \n",
       "1                     191647004.0                   23040   \n",
       "2                      79371799.0                   21030   \n",
       "3                     212202942.0                   21030   \n",
       "4                     134511154.0                   21040   \n",
       "\n",
       "                  coalesced_purpose_name  \n",
       "0     Power generation/renewable sources  \n",
       "1  Electrical transmission/ distribution  \n",
       "2                         Rail transport  \n",
       "3                         Rail transport  \n",
       "4                        Water transport  "
      ]
     },
     "execution_count": 11,
     "metadata": {},
     "output_type": "execute_result"
    }
   ],
   "source": [
    "donations_df = pd.read_csv('https://uc3967674e910066678da8fc7850.dl.dropboxusercontent.com/cd/0/get/AgA6OTlmxOevE8zBcT3btjZR8hGifLL_thMroA3tBb9c44Ajg4UAlX3orSrwN5kzaUMY2ow6-QsFj1c-Kf-wJncTigHdd3mj9pUWYznlEqjevo_MI_n9dd7UbftAbuWTYT8/file?_download_id=1752561502404541632558147445238060157276967117767629700737814584863&_notify_domain=www.dropbox.com&dl=1')\n",
    "donations_df.head()"
   ]
  },
  {
   "cell_type": "markdown",
   "metadata": {},
   "source": [
    "Look for NaN values"
   ]
  },
  {
   "cell_type": "code",
   "execution_count": 12,
   "metadata": {
    "scrolled": true
   },
   "outputs": [
    {
     "data": {
      "text/plain": [
       "Unnamed: 0                        False\n",
       "aiddata_id                        False\n",
       "aiddata_2_id                       True\n",
       "year                              False\n",
       "donor                             False\n",
       "recipient                         False\n",
       "commitment_amount_usd_constant    False\n",
       "coalesced_purpose_code            False\n",
       "coalesced_purpose_name            False\n",
       "dtype: bool"
      ]
     },
     "execution_count": 12,
     "metadata": {},
     "output_type": "execute_result"
    }
   ],
   "source": [
    "donations_df.isna().any()"
   ]
  },
  {
   "cell_type": "markdown",
   "metadata": {},
   "source": [
    "Sort the donation to highlight the most generous donors"
   ]
  },
  {
   "cell_type": "code",
   "execution_count": 13,
   "metadata": {
    "scrolled": true
   },
   "outputs": [
    {
     "data": {
      "text/html": [
       "<div>\n",
       "<style scoped>\n",
       "    .dataframe tbody tr th:only-of-type {\n",
       "        vertical-align: middle;\n",
       "    }\n",
       "\n",
       "    .dataframe tbody tr th {\n",
       "        vertical-align: top;\n",
       "    }\n",
       "\n",
       "    .dataframe thead th {\n",
       "        text-align: right;\n",
       "    }\n",
       "</style>\n",
       "<table border=\"1\" class=\"dataframe\">\n",
       "  <thead>\n",
       "    <tr style=\"text-align: right;\">\n",
       "      <th></th>\n",
       "      <th>year</th>\n",
       "      <th>donor</th>\n",
       "      <th>recipient</th>\n",
       "      <th>commitment_amount_usd_constant</th>\n",
       "      <th>coalesced_purpose_code</th>\n",
       "      <th>coalesced_purpose_name</th>\n",
       "    </tr>\n",
       "  </thead>\n",
       "  <tbody>\n",
       "    <tr>\n",
       "      <th>0</th>\n",
       "      <td>1977</td>\n",
       "      <td>Saudi Arabia</td>\n",
       "      <td>India</td>\n",
       "      <td>348718518.0</td>\n",
       "      <td>23030</td>\n",
       "      <td>Power generation/renewable sources</td>\n",
       "    </tr>\n",
       "    <tr>\n",
       "      <th>1</th>\n",
       "      <td>1977</td>\n",
       "      <td>Saudi Arabia</td>\n",
       "      <td>Brazil</td>\n",
       "      <td>191647004.0</td>\n",
       "      <td>23040</td>\n",
       "      <td>Electrical transmission/ distribution</td>\n",
       "    </tr>\n",
       "    <tr>\n",
       "      <th>2</th>\n",
       "      <td>1983</td>\n",
       "      <td>Saudi Arabia</td>\n",
       "      <td>India</td>\n",
       "      <td>79371799.0</td>\n",
       "      <td>21030</td>\n",
       "      <td>Rail transport</td>\n",
       "    </tr>\n",
       "    <tr>\n",
       "      <th>3</th>\n",
       "      <td>1984</td>\n",
       "      <td>Saudi Arabia</td>\n",
       "      <td>Taiwan</td>\n",
       "      <td>212202942.0</td>\n",
       "      <td>21030</td>\n",
       "      <td>Rail transport</td>\n",
       "    </tr>\n",
       "    <tr>\n",
       "      <th>4</th>\n",
       "      <td>1984</td>\n",
       "      <td>Saudi Arabia</td>\n",
       "      <td>Korea</td>\n",
       "      <td>134511154.0</td>\n",
       "      <td>21040</td>\n",
       "      <td>Water transport</td>\n",
       "    </tr>\n",
       "  </tbody>\n",
       "</table>\n",
       "</div>"
      ],
      "text/plain": [
       "   year         donor recipient  commitment_amount_usd_constant  \\\n",
       "0  1977  Saudi Arabia     India                     348718518.0   \n",
       "1  1977  Saudi Arabia    Brazil                     191647004.0   \n",
       "2  1983  Saudi Arabia     India                      79371799.0   \n",
       "3  1984  Saudi Arabia    Taiwan                     212202942.0   \n",
       "4  1984  Saudi Arabia     Korea                     134511154.0   \n",
       "\n",
       "   coalesced_purpose_code                 coalesced_purpose_name  \n",
       "0                   23030     Power generation/renewable sources  \n",
       "1                   23040  Electrical transmission/ distribution  \n",
       "2                   21030                         Rail transport  \n",
       "3                   21030                         Rail transport  \n",
       "4                   21040                        Water transport  "
      ]
     },
     "execution_count": 13,
     "metadata": {},
     "output_type": "execute_result"
    }
   ],
   "source": [
    "#Remove columns\n",
    "cleaned_donations_df = donations_df.drop(columns=['Unnamed: 0', 'aiddata_id', 'aiddata_2_id'])\n",
    "cleaned_donations_df.head()"
   ]
  },
  {
   "cell_type": "code",
   "execution_count": 18,
   "metadata": {
    "scrolled": false
   },
   "outputs": [
    {
     "data": {
      "text/plain": [
       "donor\n",
       "Australia    2.446616e+09\n",
       "Austria      7.840690e+08\n",
       "Belgium      2.144445e+09\n",
       "Brazil       1.134440e+06\n",
       "Canada       7.466338e+09\n",
       "Name: commitment_amount_usd_constant, dtype: float64"
      ]
     },
     "execution_count": 18,
     "metadata": {},
     "output_type": "execute_result"
    }
   ],
   "source": [
    "# Group donation per donnor country and sum the donation amounts\n",
    "grouped_donations_ds = cleaned_donations_df.groupby('donor').sum()['commitment_amount_usd_constant']\n",
    "grouped_donations_ds.head()"
   ]
  },
  {
   "cell_type": "code",
   "execution_count": 23,
   "metadata": {
    "scrolled": false
   },
   "outputs": [
    {
     "data": {
      "text/html": [
       "<div>\n",
       "<style scoped>\n",
       "    .dataframe tbody tr th:only-of-type {\n",
       "        vertical-align: middle;\n",
       "    }\n",
       "\n",
       "    .dataframe tbody tr th {\n",
       "        vertical-align: top;\n",
       "    }\n",
       "\n",
       "    .dataframe thead th {\n",
       "        text-align: right;\n",
       "    }\n",
       "</style>\n",
       "<table border=\"1\" class=\"dataframe\">\n",
       "  <thead>\n",
       "    <tr style=\"text-align: right;\">\n",
       "      <th></th>\n",
       "      <th>donor</th>\n",
       "      <th>commitment_amount_usd_constant</th>\n",
       "    </tr>\n",
       "  </thead>\n",
       "  <tbody>\n",
       "    <tr>\n",
       "      <th>41</th>\n",
       "      <td>United States</td>\n",
       "      <td>1.161763e+11</td>\n",
       "    </tr>\n",
       "    <tr>\n",
       "      <th>19</th>\n",
       "      <td>Japan</td>\n",
       "      <td>1.141823e+11</td>\n",
       "    </tr>\n",
       "    <tr>\n",
       "      <th>13</th>\n",
       "      <td>Germany</td>\n",
       "      <td>4.721844e+10</td>\n",
       "    </tr>\n",
       "    <tr>\n",
       "      <th>40</th>\n",
       "      <td>United Kingdom</td>\n",
       "      <td>2.369054e+10</td>\n",
       "    </tr>\n",
       "    <tr>\n",
       "      <th>12</th>\n",
       "      <td>France</td>\n",
       "      <td>1.545646e+10</td>\n",
       "    </tr>\n",
       "  </tbody>\n",
       "</table>\n",
       "</div>"
      ],
      "text/plain": [
       "             donor  commitment_amount_usd_constant\n",
       "41   United States                    1.161763e+11\n",
       "19           Japan                    1.141823e+11\n",
       "13         Germany                    4.721844e+10\n",
       "40  United Kingdom                    2.369054e+10\n",
       "12          France                    1.545646e+10"
      ]
     },
     "execution_count": 23,
     "metadata": {},
     "output_type": "execute_result"
    }
   ],
   "source": [
    "# Build Most generous donors\n",
    "grouped_donations_df = pd.DataFrame({\n",
    "                                    'donor': grouped_donations_ds.index,\n",
    "                                    'commitment_amount_usd_constant': grouped_donations_ds.values})\n",
    "sorted_donations_df = grouped_donations_df.sort_values(by='commitment_amount_usd_constant', ascending=False)\n",
    "\n",
    "sorted_donations_df.head()"
   ]
  },
  {
   "cell_type": "code",
   "execution_count": 24,
   "metadata": {},
   "outputs": [],
   "source": [
    "# Convert donation amounts in Billion dollars\n",
    "sorted_donations_df['commitment_amount_usd_constant'] = sorted_donations_df['commitment_amount_usd_constant'].map(lambda x: x / 1000000000)"
   ]
  },
  {
   "cell_type": "code",
   "execution_count": 25,
   "metadata": {
    "scrolled": false
   },
   "outputs": [
    {
     "data": {
      "text/plain": [
       "Text(0.5, 1.0, 'Donotions vs Country')"
      ]
     },
     "execution_count": 25,
     "metadata": {},
     "output_type": "execute_result"
    },
    {
     "data": {
      "image/png": "[encoded data removed]",
      "text/plain": [
       "<Figure size 720x1080 with 1 Axes>"
      ]
     },
     "metadata": {
      "needs_background": "light"
     },
     "output_type": "display_data"
    }
   ],
   "source": [
    "# Initialize the matplotlib figure\n",
    "f, ax = plt.subplots(figsize=(10, 15))\n",
    "\n",
    "sns.barplot(data=sorted_donations_df, y='donor', x='commitment_amount_usd_constant')\n",
    "# Add a legend and informative axis label\n",
    "ax.set(xlim=(0, 125), ylabel=\"\",\n",
    "       xlabel=\"Donotions amount per billion dollars\");\n",
    "ax.set_title('Donotions vs Country')\n"
   ]
  },
  {
   "cell_type": "code",
   "execution_count": null,
   "metadata": {},
   "outputs": [],
   "source": []
  },
  {
   "cell_type": "code",
   "execution_count": null,
   "metadata": {},
   "outputs": [],
   "source": []
  }
 ],
 "metadata": {
  "kernelspec": {
   "display_name": "Python 3",
   "language": "python",
   "name": "python3"
  },
  "language_info": {
   "codemirror_mode": {
    "name": "ipython",
    "version": 3
   },
   "file_extension": ".py",
   "mimetype": "text/x-python",
   "name": "python",
   "nbconvert_exporter": "python",
   "pygments_lexer": "ipython3",
   "version": "3.7.3"
  }
 },
 "nbformat": 4,
 "nbformat_minor": 2
}
